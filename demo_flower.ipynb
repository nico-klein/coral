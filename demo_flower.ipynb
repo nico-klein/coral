{
 "cells": [
  {
   "cell_type": "code",
   "execution_count": 9,
   "id": "511ff5cd",
   "metadata": {},
   "outputs": [
    {
     "name": "stdout",
     "output_type": "stream",
     "text": [
      "runtime BuildLabel(COMPILER=6.3.0 20170516,DATE=redacted,TIME=redacted), RuntimeVersion(14)\n",
      "edge tpus [{'type': 'pci', 'path': '/dev/apex_0'}]\n"
     ]
    }
   ],
   "source": [
    "from pycoral.pybind._pywrap_coral import GetRuntimeVersion as get_runtime_version\n",
    "from pycoral.pybind._pywrap_coral import ListEdgeTpus as list_edge_tpus\n",
    "print('runtime', get_runtime_version())\n",
    "print('edge tpus', list_edge_tpus())"
   ]
  },
  {
   "cell_type": "code",
   "execution_count": 1,
   "id": "3e37fe54",
   "metadata": {},
   "outputs": [],
   "source": [
    "import argparse\n",
    "import time\n",
    "\n",
    "import numpy as np\n",
    "from PIL import Image\n",
    "from pycoral.adapters import classify\n",
    "from pycoral.adapters import common\n",
    "from pycoral.utils.dataset import read_label_file\n",
    "from pycoral.utils.edgetpu import make_interpreter"
   ]
  },
  {
   "cell_type": "code",
   "execution_count": 2,
   "id": "6ad12c80",
   "metadata": {},
   "outputs": [],
   "source": [
    "labels = read_label_file('../pycoral/test_data/inat_bird_labels.txt')\n",
    "model_file_name = '../pycoral/test_data/mobilenet_v2_1.0_224_inat_bird_quant_edgetpu.tflite'\n",
    "top_k = 1\n",
    "threshold = 0.0"
   ]
  },
  {
   "cell_type": "code",
   "execution_count": 12,
   "id": "d955d552",
   "metadata": {},
   "outputs": [
    {
     "name": "stdout",
     "output_type": "stream",
     "text": [
      "size (224, 224)\n"
     ]
    }
   ],
   "source": [
    "interpreter = make_interpreter(*model_file_name.split('@'))\n",
    "interpreter.allocate_tensors()\n",
    "# Model must be uint8 quantized\n",
    "if common.input_details(interpreter, 'dtype') != np.uint8:\n",
    "    raise ValueError('Only support uint8 input type.')\n",
    "\n",
    "size = common.input_size(interpreter)\n",
    "image = Image.open('../pycoral/test_data/parrot.jpg').convert('RGB').resize(size, Image.ANTIALIAS)\n",
    "print('size', size)"
   ]
  },
  {
   "cell_type": "code",
   "execution_count": 4,
   "id": "feb6c047",
   "metadata": {},
   "outputs": [
    {
     "name": "stdout",
     "output_type": "stream",
     "text": [
      "----INFERENCE TIME----\n",
      "Note: The first inference on Edge TPU is slow because it includes loading the model into Edge TPU memory.\n",
      "15.3ms\n",
      "4.1ms\n",
      "3.5ms\n",
      "3.4ms\n",
      "3.4ms\n",
      "-------RESULTS--------\n",
      "Ara macao (Scarlet Macaw): 0.75781\n"
     ]
    }
   ],
   "source": [
    "# efficiency; we use 1e-5 below instead of absolute zero).\n",
    "params = common.input_details(interpreter, 'quantization_parameters')\n",
    "scale = params['scales']\n",
    "zero_point = params['zero_points']\n",
    "mean = 128.0\n",
    "std = 128.0\n",
    "if abs(scale * std - 1) < 1e-5 and abs(mean - zero_point) < 1e-5:\n",
    "  # Input data does not require preprocessing.\n",
    "  common.set_input(interpreter, image)\n",
    "else:\n",
    "  # Input data requires preprocessing\n",
    "  normalized_input = (np.asarray(image) - mean) / (std * scale) + zero_point\n",
    "  np.clip(normalized_input, 0, 255, out=normalized_input)\n",
    "  common.set_input(interpreter, normalized_input.astype(np.uint8))\n",
    "\n",
    "# Run inference\n",
    "print('----INFERENCE TIME----')\n",
    "print('Note: The first inference on Edge TPU is slow because it includes',\n",
    "      'loading the model into Edge TPU memory.')\n",
    "for _ in range(5):\n",
    "  start = time.perf_counter()\n",
    "  interpreter.invoke()\n",
    "  inference_time = time.perf_counter() - start\n",
    "  classes = classify.get_classes(interpreter, top_k, threshold)\n",
    "  print('%.1fms' % (inference_time * 1000))\n",
    "\n",
    "print('-------RESULTS--------')\n",
    "for c in classes:\n",
    "  print('%s: %.5f' % (labels.get(c.id, c.id), c.score))\n",
    "\n"
   ]
  },
  {
   "cell_type": "code",
   "execution_count": null,
   "id": "784eef02",
   "metadata": {},
   "outputs": [],
   "source": []
  }
 ],
 "metadata": {
  "kernelspec": {
   "display_name": "Python 3 (ipykernel)",
   "language": "python",
   "name": "python3"
  },
  "language_info": {
   "codemirror_mode": {
    "name": "ipython",
    "version": 3
   },
   "file_extension": ".py",
   "mimetype": "text/x-python",
   "name": "python",
   "nbconvert_exporter": "python",
   "pygments_lexer": "ipython3",
   "version": "3.7.3"
  }
 },
 "nbformat": 4,
 "nbformat_minor": 5
}
